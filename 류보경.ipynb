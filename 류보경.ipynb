{
 "cells": [
  {
   "cell_type": "markdown",
   "metadata": {},
   "source": [
    "# 1"
   ]
  },
  {
   "cell_type": "code",
   "execution_count": 45,
   "metadata": {},
   "outputs": [
    {
     "name": "stdout",
     "output_type": "stream",
     "text": [
      "12.566370614359172\n"
     ]
    }
   ],
   "source": [
    "from math import *\n",
    "\n",
    "r = int(input('반지름을 입력하세요'))\n",
    "\n",
    "answer = (r ** 2) * pi\n",
    "\n",
    "print(answer)"
   ]
  },
  {
   "cell_type": "markdown",
   "metadata": {},
   "source": [
    "# 2"
   ]
  },
  {
   "cell_type": "code",
   "execution_count": 46,
   "metadata": {},
   "outputs": [
    {
     "name": "stdout",
     "output_type": "stream",
     "text": [
      "www.google.com\n"
     ]
    }
   ],
   "source": [
    "def get_url(site):\n",
    "    dot = 'com'\n",
    "    if site == 'daum':\n",
    "        dot = 'net'\n",
    "    return f'www.{site}.{dot}'\n",
    "\n",
    "site = input('영문이름을 입력해주세요')\n",
    "url = get_url(site)\n",
    "print(url)"
   ]
  },
  {
   "cell_type": "markdown",
   "metadata": {},
   "source": [
    "# 3"
   ]
  },
  {
   "cell_type": "code",
   "execution_count": 47,
   "metadata": {},
   "outputs": [
    {
     "name": "stdout",
     "output_type": "stream",
     "text": [
      "3 --> 3 6 9 12 15 18 21 24 27 "
     ]
    }
   ],
   "source": [
    "n = int(input('출력할 단을 입력하세요'))\n",
    "\n",
    "print(f'{n} -->', end=' ')\n",
    "for i in range(1,10):\n",
    "    print(n * i, end=\" \")"
   ]
  },
  {
   "cell_type": "markdown",
   "metadata": {},
   "source": [
    "# 4"
   ]
  },
  {
   "cell_type": "code",
   "execution_count": 48,
   "metadata": {},
   "outputs": [
    {
     "name": "stdout",
     "output_type": "stream",
     "text": [
      "9 7 5 3 1 "
     ]
    }
   ],
   "source": [
    "num = []\n",
    "\n",
    "while True:\n",
    "    value = input('값을 입력하세요(입력이 끝났을 시 q를 입력하세요)')\n",
    "\n",
    "    if value == 'q' or value == 'Q':\n",
    "        break\n",
    "    else:\n",
    "        num.append(int(value))\n",
    "\n",
    "length = len(num)\n",
    "\n",
    "for i in range(1,length+1):\n",
    "    print(num[-1 * i],end=' ')"
   ]
  },
  {
   "cell_type": "markdown",
   "metadata": {},
   "source": [
    "# 5"
   ]
  },
  {
   "cell_type": "code",
   "execution_count": 49,
   "metadata": {},
   "outputs": [
    {
     "name": "stdout",
     "output_type": "stream",
     "text": [
      "휴대폰의 주인은 홍길동입니다. 휴대폰 번호는 0100000000이고, 애플에서 생산되었습니다.\n"
     ]
    }
   ],
   "source": [
    "class SmartPhone:\n",
    "\n",
    "    def __init__(self, phoneOwner, phoneNumber, company):\n",
    "        self.__phoneOwner = phoneOwner\n",
    "        self.__phoneNumber = phoneNumber\n",
    "        self.__company = company\n",
    "\n",
    "    def __str__(self):\n",
    "        return f'휴대폰의 주인은 {self.__phoneOwner}입니다. 휴대폰 번호는 {self.__phoneNumber}이고, {self.__company}에서 생산되었습니다.'\n",
    "\n",
    "\n",
    "if __name__ == '__main__':\n",
    "    iPhone10 = SmartPhone('홍길동', '0100000000', '애플')\n",
    "    print(iPhone10)\n"
   ]
  }
 ],
 "metadata": {
  "kernelspec": {
   "display_name": "Python 3",
   "language": "python",
   "name": "python3"
  },
  "language_info": {
   "codemirror_mode": {
    "name": "ipython",
    "version": 3
   },
   "file_extension": ".py",
   "mimetype": "text/x-python",
   "name": "python",
   "nbconvert_exporter": "python",
   "pygments_lexer": "ipython3",
   "version": "3.11.9"
  }
 },
 "nbformat": 4,
 "nbformat_minor": 2
}
